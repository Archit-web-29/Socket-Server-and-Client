{
 "cells": [
  {
   "cell_type": "code",
   "execution_count": null,
   "id": "c96c512f",
   "metadata": {},
   "outputs": [],
   "source": [
    "import socket\n",
    "\n",
    "HOST = '0.0.0.0'\n",
    "PORT = 12345\n",
    "\n",
    "server_socket = socket.socket(socket.AF_INET, socket.SOCK_STREAM)\n",
    "server_socket.bind((HOST, PORT))\n",
    "server_socket.listen()\n",
    "\n",
    "print(f\"🟢 Server is listening on port {PORT}...\")\n",
    "\n",
    "client_socket, client_address = server_socket.accept()\n",
    "print(f\"✅ Connected by {client_address}\")\n",
    "\n",
    "while True:\n",
    "    data = client_socket.recv(1024).decode()\n",
    "    if not data:\n",
    "        print(\"🔴 Client disconnected.\")\n",
    "        break\n",
    "\n",
    "    print(f\"📥 Client: {data}\")\n",
    "\n",
    "    reply = input(\"💬 Server: \")\n",
    "    if reply == \"ServerTerminateHOST\":\n",
    "        client_socket.sendall(\"[Error1 - ServerTerminateHOST] Server has been terminated by HOST.\".encode())\n",
    "        break\n",
    "    else:\n",
    "        client_socket.sendall(reply.encode())\n",
    "\n",
    "client_socket.close()\n",
    "server_socket.close()\n",
    "print(\"🔴 Server closed.\")\n"
   ]
  },
  {
   "cell_type": "code",
   "execution_count": null,
   "id": "625095a4",
   "metadata": {},
   "outputs": [],
   "source": []
  }
 ],
 "metadata": {
  "kernelspec": {
   "display_name": "Python 3 (ipykernel)",
   "language": "python",
   "name": "python3"
  },
  "language_info": {
   "codemirror_mode": {
    "name": "ipython",
    "version": 3
   },
   "file_extension": ".py",
   "mimetype": "text/x-python",
   "name": "python",
   "nbconvert_exporter": "python",
   "pygments_lexer": "ipython3",
   "version": "3.12.4"
  }
 },
 "nbformat": 4,
 "nbformat_minor": 5
}
