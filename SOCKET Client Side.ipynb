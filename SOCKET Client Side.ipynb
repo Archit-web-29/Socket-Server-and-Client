{
 "cells": [
  {
   "cell_type": "code",
   "execution_count": null,
   "id": "0ec7f10f",
   "metadata": {},
   "outputs": [
    {
     "name": "stdout",
     "output_type": "stream",
     "text": [
      "🟢 Connected to the server.\n",
      "💬 You: Hello Server\n",
      "📥 Server: Hello Client\n"
     ]
    }
   ],
   "source": [
    "import socket\n",
    "\n",
    "SERVER_HOST = '127.0.0.1'\n",
    "PORT = 12345\n",
    "\n",
    "client_socket = socket.socket(socket.AF_INET, socket.SOCK_STREAM)\n",
    "client_socket.connect((SERVER_HOST, PORT))\n",
    "\n",
    "print(\"🟢 Connected to the server.\")\n",
    "\n",
    "while True:\n",
    "    message = input(\"💬 You: \")\n",
    "    client_socket.sendall(message.encode())\n",
    "\n",
    "    # If the client decides to exit, send exit and don't wait for reply\n",
    "    if message == \"ServerTerminateCLIENT\":\n",
    "        print(\"🔴 You left the chat.\")\n",
    "        client_socket.sendall(\"[Error1 - ServerTerminateCLIENT] Server has been terminated by CLIENT.\".encode())\n",
    "        break\n",
    "\n",
    "    reply = client_socket.recv(1024).decode()\n",
    "    if not reply:\n",
    "        print(\"⚠️ Server closed the connection.\")\n",
    "        break\n",
    "\n",
    "    print(f\"📥 Server: {reply}\")\n",
    "\n",
    "client_socket.close()"
   ]
  },
  {
   "cell_type": "code",
   "execution_count": null,
   "id": "809bfaf3",
   "metadata": {},
   "outputs": [],
   "source": []
  }
 ],
 "metadata": {
  "kernelspec": {
   "display_name": "Python 3 (ipykernel)",
   "language": "python",
   "name": "python3"
  },
  "language_info": {
   "codemirror_mode": {
    "name": "ipython",
    "version": 3
   },
   "file_extension": ".py",
   "mimetype": "text/x-python",
   "name": "python",
   "nbconvert_exporter": "python",
   "pygments_lexer": "ipython3",
   "version": "3.12.4"
  }
 },
 "nbformat": 4,
 "nbformat_minor": 5
}
